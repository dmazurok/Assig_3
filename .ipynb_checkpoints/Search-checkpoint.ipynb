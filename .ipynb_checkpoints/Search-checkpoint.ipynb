{
 "cells": [
  {
   "cell_type": "markdown",
   "metadata": {},
   "source": [
    "# Getting started"
   ]
  },
  {
   "cell_type": "code",
   "execution_count": 1,
   "metadata": {
    "collapsed": true
   },
   "outputs": [],
   "source": [
    "from whoosh.index import create_in\n",
    "from whoosh.fields import *"
   ]
  },
  {
   "cell_type": "code",
   "execution_count": 2,
   "metadata": {},
   "outputs": [],
   "source": [
    "schema = Schema(title=TEXT(stored=True), path=ID(stored=True), content=TEXT)"
   ]
  },
  {
   "cell_type": "code",
   "execution_count": 4,
   "metadata": {},
   "outputs": [
    {
     "name": "stdout",
     "output_type": "stream",
     "text": [
      "<Schema: ['content', 'path', 'title']>\n"
     ]
    }
   ],
   "source": [
    "print(schema)"
   ]
  },
  {
   "cell_type": "markdown",
   "metadata": {},
   "source": [
    "Make sure you have the directory \"indexdir\" created beforehand in the folder where you start the notebook"
   ]
  },
  {
   "cell_type": "code",
   "execution_count": 6,
   "metadata": {},
   "outputs": [],
   "source": [
    "ix = create_in(\"indexdir\", schema)\n",
    "writer = ix.writer()"
   ]
  },
  {
   "cell_type": "code",
   "execution_count": 7,
   "metadata": {},
   "outputs": [],
   "source": [
    "writer.add_document(title=u\"First document\", path=u\"/a\",content=u\"This is the first document we've added!\")\n",
    "writer.add_document(title=u\"Second document\", path=u\"/b\",content=u\"The second one is even more interesting!\")\n",
    "writer.commit()"
   ]
  },
  {
   "cell_type": "code",
   "execution_count": 8,
   "metadata": {
    "collapsed": true
   },
   "outputs": [],
   "source": [
    "from whoosh.qparser import QueryParser"
   ]
  },
  {
   "cell_type": "markdown",
   "metadata": {},
   "source": [
    "the query we will use now is \"first\""
   ]
  },
  {
   "cell_type": "code",
   "execution_count": 9,
   "metadata": {},
   "outputs": [
    {
     "name": "stdout",
     "output_type": "stream",
     "text": [
      "<Hit {'path': '/a', 'title': 'First document'}> 1.047619047619048\n"
     ]
    }
   ],
   "source": [
    "with ix.searcher() as searcher:\n",
    "    query = QueryParser(\"content\", ix.schema).parse(\"first\")\n",
    "    results = searcher.search(query)\n",
    "    print(results[0], results[0].score)"
   ]
  },
  {
   "cell_type": "markdown",
   "metadata": {},
   "source": [
    "# Custom ranking functions"
   ]
  },
  {
   "cell_type": "code",
   "execution_count": 11,
   "metadata": {
    "collapsed": true
   },
   "outputs": [],
   "source": [
    "from whoosh import scoring"
   ]
  },
  {
   "cell_type": "code",
   "execution_count": 12,
   "metadata": {},
   "outputs": [],
   "source": [
    "w = scoring.TF_IDF()"
   ]
  },
  {
   "cell_type": "code",
   "execution_count": 13,
   "metadata": {},
   "outputs": [
    {
     "name": "stdout",
     "output_type": "stream",
     "text": [
      "<Hit {'path': '/a', 'title': 'First document'}> 1.0\n"
     ]
    }
   ],
   "source": [
    "with ix.searcher(weighting =w) as searcher:\n",
    "    query = QueryParser(\"content\", ix.schema).parse(\"first\")\n",
    "    results = searcher.search(query)\n",
    "    print(results[0], results[0].score)"
   ]
  },
  {
   "cell_type": "markdown",
   "metadata": {},
   "source": [
    "You can define a custom scoring function too. pos_score_fn computes a score for a given document using only one field. Here the score is based on the first occurence (position) of the query term."
   ]
  },
  {
   "cell_type": "code",
   "execution_count": 14,
   "metadata": {
    "collapsed": true
   },
   "outputs": [],
   "source": [
    "def pos_score_fn(searcher, fieldname, text, matcher):\n",
    "    poses = matcher.value_as(\"positions\")\n",
    "    return 1.0 / (poses[0] + 1)\n",
    "\n",
    "pos_weighting = scoring.FunctionWeighting(pos_score_fn)"
   ]
  },
  {
   "cell_type": "code",
   "execution_count": 15,
   "metadata": {},
   "outputs": [
    {
     "name": "stdout",
     "output_type": "stream",
     "text": [
      "<Hit {'path': '/a', 'title': 'First document'}> 0.25\n"
     ]
    }
   ],
   "source": [
    "with ix.searcher(weighting =pos_weighting) as searcher:\n",
    "    query = QueryParser(\"content\", ix.schema).parse(\"first\")\n",
    "    results = searcher.search(query)\n",
    "    print(results[0], results[0].score)"
   ]
  },
  {
   "cell_type": "markdown",
   "metadata": {},
   "source": [
    "# Indexing a collection and computing metrics"
   ]
  },
  {
   "cell_type": "code",
   "execution_count": 45,
   "metadata": {
    "collapsed": true
   },
   "outputs": [],
   "source": [
    "import csv"
   ]
  },
  {
   "cell_type": "code",
   "execution_count": null,
   "metadata": {
    "collapsed": true
   },
   "outputs": [],
   "source": [
    "def unicode_csv_reader(utf8_data, dialect=csv.excel, **kwargs):\n",
    "    csv_reader = csv.reader(utf8_data, dialect=dialect, **kwargs)\n",
    "    for row in csv_reader:\n",
    "        yield [unicode(cell, 'utf-8') for cell in row]"
   ]
  },
  {
   "cell_type": "code",
   "execution_count": 46,
   "metadata": {
    "collapsed": true
   },
   "outputs": [],
   "source": [
    "def read_file(file_path, delimiter='\\t'):\n",
    "    with open(file_path, 'r') as csvfile:\n",
    "        reader = csv.reader(csvfile, delimiter=delimiter, quotechar='|', quoting=csv.QUOTE_MINIMAL)\n",
    "        doc_list = []\n",
    "        for row in reader:\n",
    "            try:\n",
    "                doc_list.append((row[0],row[1], row[2].replace('\\n',' ')))\n",
    "                print((row[0],row[1], row[2].replace('\\n',' ')))\n",
    "            except Exception as e:\n",
    "                print(e);\n",
    "                print((row[0],row[1], row[2].replace('\\n',' ')))\n",
    "\n",
    "    return doc_list"
   ]
  },
  {
   "cell_type": "code",
   "execution_count": 44,
   "metadata": {},
   "outputs": [
    {
     "name": "stdout",
     "output_type": "stream",
     "text": [
      "('п»їclueweb09-en0010-79-02218', '15.8423805237', 'Create your Own Trivia Quiz! Don\\'t just play, contribute! Developing your own trivia quizzes is the most fun and intellectually challenging part in being a Masters of Trivia Contributor... You can select from thousands of categories and topics to write for. Is your passion \"baseball\", or more specifically the \"Boston Red Sox\"? Drill down our category tree and find the topic that fits your interest best. Then start creating your game. Remember to assign a clear and descriptive title to your trivia quiz. People use our search function in a logical way. For example, if you are writing a quiz about \"african elephants\", entitle your quiz \"African Elephants\" or \"The African Elephant Quiz\". But if your quiz is about \"african elephant poaching\", your title should reflect the content of your quiz as faithfully as possible. Hence, \"African Elephant Poaching\" or \"Poaching of African Elephants\" would be appropriate titles.  Try to capitalize the first word of each noun, as in the example above. It is important that all trivia quizzes obey a specific length rule. Quizzes can have any maximum number of questions (heck, our Trivia Marathon is endless) but should have a minimum of 12 questions each or more in order to provide a relative challenge for the player. Of course, always make sure to triple check your sources of information and verify the accuracy of the quizzes you develop.  After all, your reputation is at stake here.  The Masters of Trivia Community will reward or penalize depending on how good or bad a job you do. Finally, needless to say, we don\\'t tolerate any profanity or discriminatory language on our site.  No need to waste your time trying; offensive quizzes will be swiftly removed by the site administrators or the Community. Games Played')\n",
      "('clueweb09-en0001-02-21241', '15.652100563', 'famous african americans Barack Hussein Obama was born in Honolulu, Hawaii to a Kenyan father and an American mother. According to the U.S. Senate Historical Office, he is the fifth African American Senator in U.S. history and is one of the Democratic candidates for President in 2008. >> Tips for Reading This Family Tree First Generation: 1. Barack Hussein OBAMA was born on 4 August 1961 at the Queen\\'s Medical Center in Honolulu, Hawaii, to Barack Hussein OBAMA, Sr. of Nyangoma-Kogelo, Siaya District, Kenya, and Ann DUNHAM of Wichita, Kansas. His parents met while both were attending the East-West Center of the University of Hawaii at Manoa, where his father was enrolled as a foreign student. When Barack Obama was two years old, his parents divorced and his father moved to Connecticut to continue his education before returning to Kenya.When Obama was six, his mother married Lolo Soetoro, an Indonesian oil manager. In 1967, when Soetoro\\'s student visa was revoked because of political unrest in Indonesia, Dunham and Barack, then in first grade, accompanied him to Jakarta, Indonesia. Obama\\'s half-sister, Maya Soetoro was born after the family moved to Indonesia. Four years later she sent him back to the United States to live with his maternal grandmother. Barack Obama graduated from Columbia University and Harvard Law School, where he met his future wife, Michelle Robinson. They have two daughters, Malia and Sasha. Second Generation (Parents): 2. Barack Hussein OBAMA Sr. was born in 1936 in Nyangoma-Kogelo, Siaya District, Kenya and died in a car crash in Nairobi, Kenya in 1982, leaving three wives, six sons and a daughter. All but one of his children live in Britain or the United States. One of the brothers died in 1984. He is buried in the village of Nyangoma-Kogelo, Siaya District, Kenya.3. Stanley Ann DUNHAM was born on 27 November 1942 in Wichita, Kansas and died 7 November 1995 of ovarian cancer. Barack Hussein OBAMA Sr. and Stanley Ann DUNHAM were married in 1960 in Hawaii and had the following children: 1 i. Barack Hussein OBAMA, Jr. Third Generation (Grandparents): 4. Hussein Onyango OBAMA was born about 1895 and died in 1979. Before settling down to work as a cook for missionaries in Nairobi he was a traveler. Recruited to fight for colonial power England in World War I, he visited Europe and India, and afterward lived for a time in Zanzibar, where he converted from Christianity to Islam, family members said. 5. Akumu Hussein Onyango OBAMA had several wives. His first wife was Helima, with whom he had no children. Second, he married Akuma and they had the following children: i. Sarah OBAMA 1. ii. Barack Hussein OBAMA, Sr. iii. Auma OBAMA Onyango\\'s third wife was Sarah, the one often referred to by Barack as his \"grandmother.\" She was the primary caregiver for Barack OBAMA Sr. after his mother, Akuma, left the family when her children were still young.6. Stanley Armour DUNHAM was born on 23 March 1918 in Kansas and died 8 February 1992 in Honolulu, Hawaii. He is buried in Punchbowl National Cemetery, Honolulu, Hawaii. 7. Madelyn Lee PAYNE was born in 1922 in Wichita, Kansas. She currently lives in Oahu, Hawaii. Stanley Armour DUNHAM and Madelyn Lee PAYNE were married on 5 May 1940, and had the following children: 3. i. Stanley Ann DUNHAM')\n",
      "('clueweb09-en0010-57-32937', '15.030872345', '')\n",
      "('clueweb09-en0010-57-32586', '15.0141372681', 'BY SCOTT FORNEK Political Editor One of his ancestors accused a fellow New England colonist of witchcraft and later stole from the governor\\'s house. Another had two brothers killed by American Indians, who scalped one brother and kidnapped the other\\'s daughter. White House hopeful Barack Obama already has presidential timber in his family tree: He is distantly related to three U.S. presidents. PHOTO GALLERY Obama Family Tree RELATED STORIES Bios of Obama family members Interactive: Obama\\'s family tree Special section: Barack Obama PDF: Obama\\'s family tree Political coverage: Lynn Sweet\\'s blog Sources To trace Barack Obama\\'s heritage, the Sun-Times started with his book, Dreams From My Father: A Story of Race and Inheritance, and the genealogical research of William Addams Reitwiesner on Reitwiesner\\'s Web site, www.wargs.com . In addition, we verified information and dug up new facts with documents on Ancestry.com , in state archives, from public libraries and from other sources. Those who helped include Sam Dunnam of Dunham-Singletary Family Connections, Donna Dodson of the Newton County (Ark.) Historical Society, Virginia genealogist Brigitte Burkett, genealogist Christopher Challender Child of the New England Historic Genealogical Society, David Lee Dunham, Leon McCurry, Robert Mardock, Rae Janette McCurry Marshall, Virginia Goeldner and Maya Soetoro-Ng. Still another ancestor was said to have been slain by pirates. Yet another lost a son in the Civil War to pro-slavery bushwackers who torched the man\\'s home and threw burning coals on his infant daughter. And, four centuries ago, his great- great-great-great-great-great- great-great-grandfather was a respected warrior and leader in eastern Africa. It would take an orchard to contain all of Sen. Barack Obama\\'s diverse ancestral branches. Obama -- who has seven half-brothers and half-sisters spread across more than 10,000 miles -- has ancestors who were born in Kenya, England, Scotland, Ireland, France, Germany and the Netherlands, the Sun-Times found in an exhaustive look at the South Side Democratic presidential hopeful\\'s family history. Obama\\'s heritage is a key part of his public persona. He explored his ancestry in his memoir, Dreams From My Father, asking: \"What is a family? Is it just a genetic chain, parents and offspring, people like me?\" And when he introduced himself to the nation in his 2004 Democratic National Convention keynote speech, Obama said he was \"grateful for the diversity of my heritage.\" \"I stand here knowing that my story is part of the larger American story, that I owe a debt to all of those who came before me, and that, in no other country on earth is my story even possible,\" he told a packed convention hall in Boston. Our research began with Obama\\'s own writings and genealogical work already done by William Addams Reitwiesner and other researchers. Then, we pored over documents on Ancestry.com and from other sources and interviewed descendants, historians and genealogists. Like many Americans with deep roots in this country, Obama has ancestors who were slave owners. But unlike many African Americans, he is not known to have any who were slaves. Obama definitely has presidential timber in his family tree: He\\'s distantly related to three U.S. presidents -- Harry S Truman, George W. Bush and George Herbert Walker Bush -- as well as to Vice President Dick Cheney. Which, genealogists say, isn\\'t all that unusual, particulary for people with ancestors from New England. \"I found I\\'m related to 18 presidents,\" said Christopher Challender Child, a genealogist with the New England Historic Genealogical Society who has researched Obama\\'s ancestry. \"With presidents with New England ancestry, you will find a lot of them are related to one another.\" Bush and his father, for instance, are distantly related to 16 other presidents. And Franklin Delano Roosevelt shared ancestors with 17 others. And, as dramatic as some of the leaves on Obama\\'s family tree might seem, Child said most people who trace their lineage back several generations would find comparable intrigue. \"They\\'re interesting,\" the genealogist said of Obama\\'s ancestors. \"But a lot of people will find they have similar interesting stories.\" Even a distant Obama relative downplayed the family\\'s past. \"I didn\\'t find too many unusual things,\" said Rae Janette McCurry Marshall, 77, who is a first cousin, twice removed, of Obama. \"The most unusual was that Sen. Obama is in our family. We never had anyone that famous.\" Not that that guarantees Obama her vote. \"I\\'ve always been a staunch Republican,\" said Marshall, a retired schoolteacher and bowling alley operator from El Reno, Okla. \"I\\'d like to know where he stands on a lot of things.\" You can find your family, too Is George Washington in your family tree? Or maybe . . . Benedict Arnold? There\\'s no telling what you might find once you start rooting around in your family\\'s past. Genealogy has always been a popular hobby. And now, thanks to the Internet, census records, birth and death information, oral histories and the like are more accessible than ever, experts say. Researching your genealogy can be consuming, though. Some amateurs spend decades tracing the roots and branches of their family trees. And professionals caution that establishing connections between ancestors through the clouds of history requires diligence, persistence and lots of patience. There are plenty of Web sites that can help you get started. Here are some of the more popular ones: вЂўВ\\xa0В\\xa0В\\xa0В\\xa0 http://www.ancestry.com/ requires a subscription, but it\\'s a treasure trove of documents. вЂўВ\\xa0В\\xa0В\\xa0В\\xa0 http://www.rootsweb.com/ is owned by the company that owns ancestry.com, but it\\'s a free site that offers plenty of instructions, information and links. вЂўВ\\xa0В\\xa0В\\xa0В\\xa0 http://www.usgenweb.org/ is free and run by volunteers. The USGenWeb Project site provides links to documents, databases and sites all over the country. вЂўВ\\xa0В\\xa0В\\xa0В\\xa0 genealogy.about.com has lots of information about how to get started, plus links to sources for documents, tools and other help. вЂўВ\\xa0В\\xa0В\\xa0В\\xa0 http://www.heritagequestonline.com/ has census records, Revolutionary War documents, information on freed slaves and more. It can be accessed free at many major public libraries or from a home computer with a valid Chicago Public Library card. вЂўВ\\xa0В\\xa0В\\xa0В\\xa0 http://www.cyberdriveillinois.com/departments/archives/archives.html , an Illinois State Archives site, includes databases on emancipated slaves, veterans of the Civil War and other conflicts, marriages and deaths and more. The site also has instructions on how to get started tracing your family tree. вЂўВ\\xa0В\\xa0В\\xa0В\\xa0 http://www.chipublib.org/cplbooksmovies/poptopics/genealogy.php , a Chicago Public Library site, has a list of resources. Also, many libraries have their own collections of old books, land records and wills.')\n",
      "('clueweb09-en0010-57-32927', '14.8958559036', \"Meet Maya, the Asian side of Barack Obama's family STRATEGY  |   Half-sister helps Obama go after 15 million Asian-American voters July 2, 2008 BY JULIANA BARBASSA SAN FRANCISCO---- The throng of Asian-American donors drew closer, drinks in hand, to hear Barack Obama's sister describe the wide arc of his life: beyond politics and Chicago, into his childhood in Indonesia and Hawaii. To many in this crowd Obama's Asian-American half-sister, Maya Soetoro-Ng, represents yet another aspect of Obama's identity that makes him unique as a presidential candidate, although it has been underplayed amid the excitement surrounding his shot at becoming the first black president. Maya Soetoro-Ng of Honolulu is the half sister of Barack Obama; (inset) Obama, 9, right, with his mother Ann Dunham, center, his Indonesian step-father Lolo Soetoro, and his sister Maya Soetoro in 1970. (AP files) Obama Family Tree RELATED STORIES Obama shows he can go right Bios of Obama's family members Interactive: Obama's family tree PDF: Obama's family tree Read Lynn Sweet's blog Special section: Barack Obama ''It would be the first time that the first family is comprised in part of Asian-Americans -- as well as African-Americans, of course,'' said Keith Kamisugi, a coordinator with Asian-Americans for Obama. In early June he organized a fundraiser along with two other Obama events focusing on Asian-American voters in San Francisco. Discussion of those ties has taken a back seat to the Obama campaign's efforts to win the Hispanic vote and his ability to rouse young and black voters. In spite of the drawn-out primary season, many voters have heard little about Obama's years in Jakarta -- he lived there between 1967 and 1971, while his mother was married to Soetoro-Ng's father, an Indonesian businessman -- or about his years in Hawaii, where Asian-Americans are a majority. Soetoro-Ng and Obama have different fathers and the same mother. Her father is Indonesian, his is Kenyan. Her husband is Chinese-Canadian. Initially, as the campaign focused on fighting out the primaries, state by state, ''the idea was to downplay to some degree race and ethnicity,'' said Soetoro-Ng in an interview with The Associated Press. ''A lot of the emphasis had been on reaching out, making connections, closing the gaps.'' That theme resonated among Obama supporters of all backgrounds, said Soetoro-Ng, who is nine years younger than Obama and considers him ''the strong male force'' in her life after her parents' divorce. It was with Obama she attended her first blues concert and her first voter registration drive, she said. The two remain close: She was there when Obama's oldest daughter, Malia, 9, was born, and plans to help celebrate her 10th birthday on the 4th of July, on the campaign trail. Soetoro-Ng's appearances give voters a chance to get to know Obama as a person, not just an elected official. Her stories illustrate the development of his character, from his days as a teenager who loved basketball and bodysurfing and didn't always get the strongest grades, to his growing sense of civic duty in the summers she spent with him in Chicago. But she also has a political role to play. She plans to spend her summer vacation -- she is a teacher at an all-girls' school in Hawaii -- introducing her brother to crowds such as this one. ''We are ready for a more complex construction of identity as a country,'' she said, dismissing the possibility some voters might find it hard to relate to Obama's multiethnic background and foreign experience. ''Maybe not everybody is as mixed or as hybrid as he is. But he gets Kansas, because we have Kansas,'' she said, referring to their mother's background. ''He gets the Midwest. He gets the south side of Chicago.'' And he ''has a lot of affection for Asian cultures, in all of their various forms,'' she said. That cultural variety is among the reasons Asian-American and Pacific Islander voters have gotten less attention than other ethnic groups from the media -- or even from the Obama campaign -- during the primary season. Asian-American voters represent about 5 percent of the population, or about 15.4 million people, but their communities are scattered around the country and harbor deep cultural and geopolitical differences that bleed into their voting behavior and ensure that many remain independent, harder to court. ''I'm not surprised we haven't had as much attention as Latinos and African-Americans,'' said Kamisugi. ''We're underdeveloped and under-recognized'' as voters. In 2004, 56 percent of Asian-Americans voted for Democrat John Kerry and 44 percent for President Bush, according to exit poll data. ''It's not an easily definable vote,'' said Tony Quinn, a California political analyst. ''You can't talk about it as a voting bloc -- it's not.'' Asians make up one-fourth of the foreign-born population in the United States; many are first-generation immigrants. That presents a challenge to politicians, said Gautam Dutta, executive director of the Asian American Action Fund,a political action committee whose goal is to increase Asian-American political participation. ''You can't have a one-size-fits-all approach,'' Dutta said. This may explain why an event billed as the community's first National Presidential Town Hall, which drew about 2,000 Asian-American and Pacific Islander leaders, elected officials and voters in May got less attention from candidates who appeared and spoke before Hispanic and black civic organizations. Hillary Rodham Clinton made a video appearance, Obama took questions over the phone. There was no response from Republican John McCain's campaign. But some analysts argue that because Asian-Americans are just emerging as a political community engaging them now will pay off. Census numbers show their growing importance. The Asian-American population grew 3 percent between 2004 and 2005 -- more than another other group. And the Census projects the population will grow 213 percent by 2050, to 33.4 million. In some key states, their weight is already considerable. Besides Hawaii, where Asian-Americans are 57.5 percent of the population, and California, where they're 13.5 percent, Asians are 7.7 percent of New Jersey and Washington, and 7.2 percent of New York. In some races, even a comparatively small group can cast the key votes. In Virginia's 2006 Senate contest, Republican George Allen referred to an Indian-American as a ''macaca'' and the resulting outrage among Asians helped propel Democrat Jim Webb's come-from-behind victory. Webb won by 7,231 votes. ''Parties are hesitant to invest in communities where party loyalty is not fixed,'' said David Lee, who teaches political science at San Francisco State University, and heads the Chinese-American Voters Education Committee. ''But if you don't spend the money, if you don't invest in Asian voters, why should they be loyal?'' Soetoro-Ng, and her husband, Konrad Ng, a professor at the University of Hawaii, are already doing some of that work. Ng blogs on the Obama campaign's Web site, and Soetoro-Ng plans to continue to take time from her teaching throughout the fall to make phone calls to house parties, appear on radio broadcasts and perform other outreach for her brother. ''My brother is very interested in reaching out to communities,'' including Asian-Americans and Pacific Islanders, she said. ''You're going to see a lot of new reaching out. It will be more deliberate.''\")\n",
      "('clueweb09-en0010-79-02216', '14.8845777512', '')\n",
      "('clueweb09-en0010-57-32939', '14.8077774048', 'Witness to history An interest in history is driving Ben Nelson, a Grayslake North High School freshman, to attend the Jan. 20 inauguration of President-elect Barack Obama in Washington, D.C. The 14-year-old from Lake Villa is part of the People to People Leadership Program, which aims to bring together people from different cultures. Saturday, January 10, 2009 Witness to history An interest in history is driving Ben Nelson, a Grayslake North High School freshman, to attend the Jan. 20 inauguration of President-elect Barack Obama in Washington, D.C. The 14-year-old from Lake Villa is part of the People to People Leadership Program, which aims to bring together people from different cultures. Thursday, January 8, 2009')\n",
      "('clueweb09-en0010-57-32591', '14.8039131165', 'The 2008 Democratic National Convention is not just for delegates inside the Pepsi Center. Convention Speeches Loved what Rep. Jackson said? Want to double check what Michelle Obama said? Or just want to relive it? Your one-stop-shopping for all of the convention speeches is right here. В\\xa0')\n",
      "('clueweb09-en0010-57-32934', '14.7825183868', 'BY SCOTT FORNEK Political Editor Bernard Obama might or might not be a blood relative to Barack Obama. Barack Obama\\'s father\\'s first wife, Kezia, is Bernard Obama\\'s mother. And Bernard was born when Barack Obama Sr. had resumed his relationship with Kezia. Some relatives question whether another man she was also seeing at the time is actually the young man\\'s father, Obama wrote in Dreams From My Father. But Barack Obama Sr. was said to have treated Bernard as his son. In this Obama Family photo are: (bottom row, from left) half-sister Auma, her mother Kezia Obama, Obama\\'s step-grandmother Sarah Hussein Onyango Obama and unknown; (top row, from left) unknown, Barack Obama, half-brother Abongo (Roy) Obama, and three unknowns. (Courtesy of the Obama Family) \"That sweetness, the lack of guile, made him seem much younger than his seventeen years,\" Obama wrote in his book. \"But he was seventeen, I reminded myself, an age where a little more independence, a sharper edge to his character, wouldn\\'t be such a bad thing. I realized that he had time for me partly because he had nothing better to do. He was patient because he had no particular place he wanted to go.\"')\n",
      "('clueweb09-en0010-57-32598', '14.7360925674', 'Dozens recount convention experiences ST. PAUL, Minn.---- One young man claimed he was tortured while in police custody. One woman got a face full of police pepper spray. But another woman said an officer kindly gave her a ride when he noticed she was tired.')\n",
      "'charmap' codec can't decode byte 0x98 in position 2135: character maps to <undefined>\n"
     ]
    }
   ],
   "source": [
    "try:\n",
    "    doc_list = read_file(\"collection.tsv\")\n",
    "except Exception as e:\n",
    "    print(e)"
   ]
  },
  {
   "cell_type": "code",
   "execution_count": 24,
   "metadata": {},
   "outputs": [
    {
     "ename": "NameError",
     "evalue": "name 'doc_list' is not defined",
     "output_type": "error",
     "traceback": [
      "\u001b[1;31m---------------------------------------------------------------------------\u001b[0m",
      "\u001b[1;31mNameError\u001b[0m                                 Traceback (most recent call last)",
      "\u001b[1;32m<ipython-input-24-8affdf07d48e>\u001b[0m in \u001b[0;36m<module>\u001b[1;34m()\u001b[0m\n\u001b[1;32m----> 1\u001b[1;33m \u001b[0mprint\u001b[0m\u001b[1;33m(\u001b[0m\u001b[0mlen\u001b[0m\u001b[1;33m(\u001b[0m\u001b[0mdoc_list\u001b[0m\u001b[1;33m)\u001b[0m\u001b[1;33m,\u001b[0m\u001b[1;34m'\\n'\u001b[0m\u001b[1;33m,\u001b[0m \u001b[0mdoc_list\u001b[0m\u001b[1;33m[\u001b[0m\u001b[1;36m0\u001b[0m\u001b[1;33m]\u001b[0m\u001b[1;33m)\u001b[0m\u001b[1;33m\u001b[0m\u001b[0m\n\u001b[0m",
      "\u001b[1;31mNameError\u001b[0m: name 'doc_list' is not defined"
     ]
    }
   ],
   "source": [
    "print(len(doc_list),'\\n', doc_list[0])"
   ]
  },
  {
   "cell_type": "code",
   "execution_count": 21,
   "metadata": {
    "scrolled": true
   },
   "outputs": [],
   "source": [
    "schema = Schema(id=ID(stored=True), content=TEXT)\n",
    "ix = create_in(\"cw_index\", schema)\n",
    "writer = ix.writer()"
   ]
  },
  {
   "cell_type": "code",
   "execution_count": 22,
   "metadata": {},
   "outputs": [
    {
     "ename": "NameError",
     "evalue": "name 'doc_list' is not defined",
     "output_type": "error",
     "traceback": [
      "\u001b[1;31m---------------------------------------------------------------------------\u001b[0m",
      "\u001b[1;31mNameError\u001b[0m                                 Traceback (most recent call last)",
      "\u001b[1;32m<ipython-input-22-2b2c2a2dbe7e>\u001b[0m in \u001b[0;36m<module>\u001b[1;34m()\u001b[0m\n\u001b[1;32m----> 1\u001b[1;33m \u001b[1;32mfor\u001b[0m \u001b[0mdoc\u001b[0m \u001b[1;32min\u001b[0m \u001b[0mdoc_list\u001b[0m\u001b[1;33m[\u001b[0m\u001b[1;33m:\u001b[0m\u001b[1;36m1000\u001b[0m\u001b[1;33m]\u001b[0m\u001b[1;33m:\u001b[0m\u001b[1;33m\u001b[0m\u001b[0m\n\u001b[0m\u001b[0;32m      2\u001b[0m     \u001b[0mwriter\u001b[0m\u001b[1;33m.\u001b[0m\u001b[0madd_document\u001b[0m\u001b[1;33m(\u001b[0m\u001b[0mid\u001b[0m\u001b[1;33m=\u001b[0m\u001b[0mdoc\u001b[0m\u001b[1;33m[\u001b[0m\u001b[1;36m0\u001b[0m\u001b[1;33m]\u001b[0m\u001b[1;33m,\u001b[0m\u001b[0mcontent\u001b[0m\u001b[1;33m=\u001b[0m\u001b[0mdoc\u001b[0m\u001b[1;33m[\u001b[0m\u001b[1;36m2\u001b[0m\u001b[1;33m]\u001b[0m\u001b[1;33m)\u001b[0m\u001b[1;33m\u001b[0m\u001b[0m\n\u001b[0;32m      3\u001b[0m \u001b[0mwriter\u001b[0m\u001b[1;33m.\u001b[0m\u001b[0mcommit\u001b[0m\u001b[1;33m(\u001b[0m\u001b[1;33m)\u001b[0m\u001b[1;33m\u001b[0m\u001b[0m\n",
      "\u001b[1;31mNameError\u001b[0m: name 'doc_list' is not defined"
     ]
    }
   ],
   "source": [
    "for doc in doc_list[:1000]:\n",
    "    writer.add_document(id=doc[0],content=doc[2])\n",
    "writer.commit()"
   ]
  },
  {
   "cell_type": "code",
   "execution_count": 32,
   "metadata": {
    "collapsed": true
   },
   "outputs": [],
   "source": [
    "query_str =  \"403b\"\n",
    "result_list = []"
   ]
  },
  {
   "cell_type": "code",
   "execution_count": 34,
   "metadata": {},
   "outputs": [
    {
     "name": "stdout",
     "output_type": "stream",
     "text": [
      "Results found: 288\n",
      "﻿﻿clueweb09-en0010-82-12593 4.68235845867756\n",
      "clueweb09-en0002-19-09466 4.606890901190984\n",
      "clueweb09-en0010-82-12588 4.576296584299555\n",
      "clueweb09-en0010-82-12589 4.574809817919019\n",
      "clueweb09-en0010-82-12587 4.483470812852932\n",
      "clueweb09-en0009-84-33862 4.450273110200792\n",
      "clueweb09-en0008-24-06210 4.341685424381006\n",
      "clueweb09-en0000-14-03360 4.234154273566411\n",
      "clueweb09-en0004-01-03541 4.194615271966087\n",
      "clueweb09-en0004-80-00508 4.193528868778884\n",
      "clueweb09-en0008-41-10509 4.1769417838009195\n",
      "clueweb09-en0009-52-27808 4.111156204215051\n",
      "clueweb09-en0009-82-05607 4.097154045886272\n",
      "clueweb09-en0007-55-00718 4.065995269601156\n",
      "clueweb09-en0001-41-08510 4.035306840104864\n",
      "clueweb09-en0010-82-12518 3.9562982164117613\n",
      "clueweb09-en0007-55-00719 3.9464327968911745\n",
      "clueweb09-en0008-24-06121 3.913863776352913\n",
      "clueweb09-en0009-94-31189 3.8456964156242117\n",
      "clueweb09-en0005-82-07314 3.813692823434889\n",
      "clueweb09-en0008-62-39243 3.746270626291283\n",
      "clueweb09-en0003-88-24169 3.738143499793505\n",
      "clueweb09-en0011-06-39804 3.731251904172552\n",
      "clueweb09-en0000-97-20518 3.705392410995217\n",
      "clueweb09-en0009-46-17686 3.6993460289572138\n",
      "clueweb09-en0011-67-00065 3.6737192229051923\n",
      "clueweb09-en0010-88-01445 3.6714655536034453\n",
      "clueweb09-en0008-60-09818 3.6714655536034453\n",
      "clueweb09-en0000-25-20929 3.6135649174345574\n",
      "clueweb09-en0001-41-08506 3.5973558052492653\n",
      "clueweb09-en0008-46-17648 3.5812914598266934\n",
      "clueweb09-en0007-55-00754 3.5716618847822237\n",
      "clueweb09-en0003-16-13779 3.5716618847822237\n",
      "clueweb09-en0009-74-17389 3.557462165140927\n",
      "clueweb09-en0004-83-01960 3.557462165140927\n",
      "clueweb09-en0000-85-24996 3.557462165140927\n",
      "clueweb09-en0005-82-27244 3.541751363995012\n",
      "clueweb09-en0010-79-01542 3.541751363995012\n",
      "clueweb09-en0001-92-00499 3.4954406760693475\n",
      "clueweb09-en0001-92-00529 3.4954406760693475\n",
      "clueweb09-en0011-06-39809 3.4802717420235307\n",
      "clueweb09-en0011-49-32965 3.4802717420235307\n",
      "clueweb09-en0008-02-24727 3.4802717420235307\n",
      "clueweb09-en0008-02-24716 3.4802717420235307\n",
      "clueweb09-en0005-81-30831 3.465233894361927\n",
      "clueweb09-en0004-62-21431 3.4487860308662524\n",
      "clueweb09-en0004-20-13408 3.4433380528471402\n",
      "clueweb09-en0003-93-27146 3.4344657822414297\n",
      "clueweb09-en0011-52-03669 3.4344657822414297\n",
      "clueweb09-en0002-20-15453 3.4282017461325967\n",
      "clueweb09-en0008-64-11078 3.4282017461325967\n",
      "clueweb09-en0004-51-33789 3.4282017461325967\n",
      "clueweb09-en0008-23-16530 3.4136095657155328\n",
      "clueweb09-en0001-02-27070 3.3991410823502632\n",
      "clueweb09-en0004-35-06003 3.385199542631527\n",
      "clueweb09-en0000-41-16092 3.377666870381926\n",
      "clueweb09-en0011-68-03841 3.3726420159984603\n",
      "clueweb09-en0007-03-16611 3.363500834877862\n",
      "clueweb09-en0003-95-21017 3.3620001570226004\n",
      "clueweb09-en0010-62-17439 3.342473186659149\n",
      "clueweb09-en0000-13-29144 3.342473186659149\n",
      "clueweb09-en0000-95-10297 3.342473186659149\n",
      "clueweb09-en0006-73-25389 3.321706822688341\n",
      "clueweb09-en0004-33-24199 3.321706822688341\n",
      "clueweb09-en0005-82-33573 3.321706822688341\n",
      "clueweb09-en0008-86-21354 3.301196903057031\n",
      "clueweb09-en0009-63-21838 3.28093870665956\n",
      "clueweb09-en0010-17-26572 3.26286796162711\n",
      "clueweb09-en0003-16-13798 3.2609276275700094\n",
      "clueweb09-en0009-79-14364 3.257404450633626\n",
      "clueweb09-en0001-41-26079 3.2411591715509807\n",
      "clueweb09-en0007-54-13479 3.2411591715509807\n",
      "clueweb09-en0008-77-26203 3.2411591715509807\n",
      "clueweb09-en0007-54-13482 3.2411591715509807\n",
      "clueweb09-en0005-52-18981 3.2332698541590212\n",
      "clueweb09-en0008-84-31988 3.2332698541590212\n",
      "clueweb09-en0007-18-30966 3.215669172868878\n",
      "clueweb09-en0007-97-12197 3.195951867774379\n",
      "clueweb09-en0007-93-11243 3.1769610636967687\n",
      "clueweb09-en0004-20-13399 3.147612057662627\n",
      "clueweb09-en0009-73-08566 3.147612057662627\n",
      "clueweb09-en0007-40-22841 3.147612057662627\n",
      "clueweb09-en0007-84-37981 3.1399968754827734\n",
      "clueweb09-en0010-79-01651 3.1335148764691723\n",
      "clueweb09-en0009-93-11725 3.1335148764691723\n",
      "clueweb09-en0009-04-27409 3.1335148764691723\n",
      "clueweb09-en0008-83-13310 3.1335148764691723\n",
      "clueweb09-en0010-33-29246 3.1092178636541257\n",
      "clueweb09-en0011-77-05552 3.1092178636541257\n",
      "clueweb09-en0011-95-18002 3.1092178636541257\n",
      "clueweb09-en0009-15-34349 3.1092178636541257\n",
      "clueweb09-en0002-85-01347 3.1092178636541257\n",
      "clueweb09-en0005-53-09280 3.1075512448894806\n",
      "clueweb09-en0004-67-26353 3.0852947457083317\n",
      "clueweb09-en0001-54-14652 3.061736958001816\n",
      "clueweb09-en0007-55-00847 3.061736958001816\n",
      "clueweb09-en0000-36-25235 3.061736958001816\n",
      "clueweb09-en0002-79-25031 3.061736958001816\n",
      "clueweb09-en0011-43-11159 3.061736958001816\n",
      "clueweb09-en0001-79-26694 3.061736958001816\n",
      "clueweb09-en0006-95-39509 3.0327908407451405\n",
      "clueweb09-en0002-35-09523 3.0327908407451405\n",
      "clueweb09-en0011-44-17887 3.0327908407451405\n",
      "clueweb09-en0004-37-04144 3.0327908407451405\n",
      "clueweb09-en0003-30-08703 3.0327908407451405\n",
      "clueweb09-en0003-30-08704 3.0327908407451405\n",
      "clueweb09-en0010-99-06872 3.0327908407451405\n",
      "clueweb09-en0006-94-08016 3.0327908407451405\n",
      "clueweb09-en0011-58-36244 3.0327908407451405\n",
      "clueweb09-en0011-98-17424 3.0100250605249226\n",
      "clueweb09-en0005-56-35975 3.00846305844279\n",
      "clueweb09-en0007-55-00716 2.9875985184948783\n",
      "clueweb09-en0005-24-24966 2.9875985184948783\n",
      "clueweb09-en0001-23-25550 2.9875985184948783\n",
      "clueweb09-en0006-59-15562 2.9875985184948783\n",
      "clueweb09-en0005-25-15002 2.96003094963441\n",
      "clueweb09-en0010-55-07748 2.96003094963441\n",
      "clueweb09-en0003-51-00909 2.96003094963441\n",
      "clueweb09-en0009-25-11750 2.9404413324577168\n",
      "clueweb09-en0008-61-00155 2.9329674796068788\n",
      "clueweb09-en0002-97-16973 2.9329674796068788\n",
      "clueweb09-en0003-37-05122 2.926505676301147\n",
      "clueweb09-en0011-22-16581 2.9063944068062395\n",
      "clueweb09-en0011-70-15598 2.9063944068062395\n",
      "clueweb09-en0004-16-08467 2.9063944068062395\n",
      "clueweb09-en0002-66-04782 2.9063944068062395\n",
      "clueweb09-en0004-44-09495 2.8802985217214387\n",
      "clueweb09-en0011-99-30168 2.8802985217214387\n",
      "clueweb09-en0004-79-30162 2.8802985217214387\n",
      "clueweb09-en0009-79-14382 2.8802985217214387\n",
      "clueweb09-en0008-77-26237 2.8802985217214387\n",
      "clueweb09-en0001-99-22964 2.861248990624488\n",
      "clueweb09-en0010-79-01642 2.854667085040946\n",
      "clueweb09-en0009-81-37061 2.854667085040946\n",
      "clueweb09-en0009-33-22670 2.854667085040946\n",
      "clueweb09-en0011-55-22323 2.8245051592830754\n",
      "clueweb09-en0005-41-38503 2.8245051592830754\n",
      "clueweb09-en0009-25-16125 2.8245051592830754\n",
      "clueweb09-en0005-58-05817 2.8245051592830754\n",
      "clueweb09-en0009-92-30899 2.8245051592830754\n",
      "clueweb09-en0007-55-00762 2.8245051592830754\n",
      "clueweb09-en0001-13-16664 2.799852852680193\n",
      "clueweb09-en0010-82-12592 2.7873906447461025\n",
      "clueweb09-en0004-01-30460 2.770832234089182\n",
      "clueweb09-en0005-60-04959 2.770832234089182\n",
      "clueweb09-en0011-77-36064 2.770832234089182\n",
      "clueweb09-en0004-16-25603 2.770832234089182\n",
      "clueweb09-en0003-57-09906 2.7424070442523782\n",
      "clueweb09-en0001-41-08505 2.7424070442523782\n",
      "clueweb09-en0011-35-01851 2.7424070442523782\n",
      "clueweb09-en0006-58-17064 2.7424070442523782\n",
      "clueweb09-en0011-75-26293 2.7424070442523782\n",
      "clueweb09-en0007-84-11305 2.7424070442523782\n",
      "clueweb09-en0008-74-29642 2.7424070442523782\n",
      "clueweb09-en0004-75-07682 2.7274493294546445\n",
      "clueweb09-en0007-55-00714 2.7099727202167396\n",
      "clueweb09-en0007-55-00887 2.7099727202167396\n",
      "clueweb09-en0000-99-07984 2.7099727202167396\n",
      "clueweb09-en0005-47-21143 2.7099727202167396\n",
      "clueweb09-en0007-83-12597 2.7099727202167396\n",
      "clueweb09-en0005-97-23767 2.682776370427404\n",
      "clueweb09-en0011-90-11940 2.682776370427404\n",
      "clueweb09-en0008-24-06118 2.682776370427404\n",
      "clueweb09-en0008-24-06113 2.682776370427404\n",
      "clueweb09-en0011-26-10075 2.682776370427404\n",
      "clueweb09-en0011-49-35778 2.682776370427404\n",
      "clueweb09-en0005-38-02471 2.6574076507262654\n",
      "clueweb09-en0009-23-31423 2.6517292258538054\n",
      "clueweb09-en0000-05-20758 2.6517292258538054\n",
      "clueweb09-en0006-75-32036 2.6517292258538054\n",
      "clueweb09-en0006-21-36525 2.6517292258538054\n",
      "clueweb09-en0011-81-14065 2.6517292258538054\n",
      "clueweb09-en0009-25-11746 2.6213924629102907\n",
      "clueweb09-en0009-25-11744 2.6213924629102907\n",
      "clueweb09-en0007-03-37389 2.6213924629102907\n",
      "clueweb09-en0003-88-24206 2.6213924629102907\n",
      "clueweb09-en0001-90-03226 2.591741976284909\n",
      "clueweb09-en0008-44-37908 2.591741976284909\n",
      "clueweb09-en0002-59-21571 2.5887824395348127\n",
      "clueweb09-en0010-09-24153 2.5304104227115745\n",
      "clueweb09-en0008-37-01538 2.5304104227115745\n",
      "clueweb09-en0002-05-19563 2.5304104227115745\n",
      "clueweb09-en0000-10-01627 2.5176705085503657\n",
      "clueweb09-en0011-44-34605 2.498872360572622\n",
      "clueweb09-en0004-18-30453 2.498872360572622\n",
      "clueweb09-en0011-00-18393 2.498872360572622\n",
      "clueweb09-en0006-00-02700 2.468110777249978\n",
      "clueweb09-en0010-04-25824 2.468110777249978\n",
      "clueweb09-en0002-19-23070 2.468110777249978\n",
      "clueweb09-en0000-38-27561 2.468110777249978\n",
      "clueweb09-en0001-29-16706 2.468110777249978\n",
      "clueweb09-en0005-74-35658 2.468110777249978\n",
      "clueweb09-en0002-70-17056 2.4380973456595645\n",
      "clueweb09-en0007-09-06594 2.4380973456595645\n",
      "clueweb09-en0010-32-14068 2.4380973456595645\n",
      "clueweb09-en0011-56-28078 2.4380973456595645\n",
      "clueweb09-en0002-81-20335 2.4380973456595645\n",
      "clueweb09-en0011-66-15309 2.4380973456595645\n",
      "clueweb09-en0011-84-29194 2.405192985062241\n",
      "clueweb09-en0007-55-00863 2.405192985062241\n",
      "clueweb09-en0000-03-30761 2.405192985062241\n",
      "clueweb09-en0008-64-31337 2.405192985062241\n",
      "clueweb09-en0005-42-38180 2.405192985062241\n",
      "clueweb09-en0003-88-24170 2.37558580988907\n",
      "clueweb09-en0007-55-00717 2.3731649467625324\n",
      "clueweb09-en0010-82-12605 2.360556560243738\n",
      "clueweb09-en0006-94-11688 2.3419786829490064\n",
      "clueweb09-en0008-62-28973 2.3419786829490064\n",
      "clueweb09-en0005-28-00804 2.3419786829490064\n",
      "clueweb09-en0001-57-08193 2.3419786829490064\n",
      "clueweb09-en0007-49-05462 2.3395618096614372\n",
      "clueweb09-en0009-34-03173 2.3116014382557903\n",
      "clueweb09-en0005-52-18226 2.3116014382557903\n",
      "clueweb09-en0000-84-23721 2.3116014382557903\n",
      "clueweb09-en0001-96-22895 2.2787600483425847\n",
      "clueweb09-en0011-83-32061 2.2787600483425847\n",
      "clueweb09-en0007-18-30977 2.2616937585181205\n",
      "clueweb09-en0001-15-18606 2.2491176931668613\n",
      "clueweb09-en0003-16-03754 2.24683875499004\n",
      "clueweb09-en0007-59-28337 2.24683875499004\n",
      "clueweb09-en0000-73-28356 2.24683875499004\n",
      "clueweb09-en0002-79-29421 2.2127425954968576\n",
      "clueweb09-en0002-43-26392 2.2127425954968576\n",
      "clueweb09-en0011-97-30440 2.2127425954968576\n",
      "clueweb09-en0009-65-08679 2.2127425954968576\n",
      "clueweb09-en0008-43-30435 2.2127425954968576\n",
      "clueweb09-en0005-84-20167 2.2127425954968576\n",
      "clueweb09-en0007-55-00715 2.1796657970426976\n",
      "clueweb09-en0002-50-23399 2.1796657970426976\n",
      "clueweb09-en0006-94-11693 2.1796657970426976\n",
      "clueweb09-en0010-26-42796 2.1796657970426976\n",
      "clueweb09-en0009-58-18330 2.1796657970426976\n",
      "clueweb09-en0010-82-12616 2.158524023178632\n",
      "clueweb09-en0001-02-27066 2.147563319675018\n",
      "clueweb09-en0010-58-27394 2.147563319675018\n",
      "clueweb09-en0005-98-00118 2.147563319675018\n",
      "clueweb09-en0006-61-01068 2.1136038583243226\n",
      "clueweb09-en0006-55-12995 2.1136038583243226\n",
      "clueweb09-en0007-09-06593 2.1136038583243226\n",
      "clueweb09-en0010-75-26187 2.1136038583243226\n",
      "clueweb09-en0000-11-24597 2.1136038583243226\n",
      "clueweb09-en0004-20-13402 2.08070168138547\n",
      "clueweb09-en0006-71-07962 2.08070168138547\n",
      "clueweb09-en0008-06-21146 2.08070168138547\n",
      "clueweb09-en0011-63-08898 2.08070168138547\n",
      "clueweb09-en0011-63-08897 2.08070168138547\n",
      "clueweb09-en0005-46-15175 2.08070168138547\n",
      "clueweb09-en0011-63-08905 2.0488081699053033\n",
      "clueweb09-en0004-47-11582 2.015342199350581\n",
      "clueweb09-en0010-82-12596 2.0148168932316723\n",
      "clueweb09-en0009-84-33861 1.9829519480428188\n",
      "clueweb09-en0005-49-37551 1.9829519480428188\n",
      "clueweb09-en0007-18-31004 1.9787748059272448\n",
      "clueweb09-en0011-67-00100 1.9515863700310645\n",
      "clueweb09-en0008-01-15587 1.9515863700310645\n",
      "clueweb09-en0009-09-26578 1.9515863700310645\n",
      "clueweb09-en0011-63-08930 1.9166062012464902\n",
      "clueweb09-en0011-63-08920 1.9166062012464902\n",
      "clueweb09-en0008-47-26036 1.9166062012464902\n",
      "clueweb09-en0004-37-02167 1.8937192176857032\n",
      "clueweb09-en0004-78-22764 1.8850707852881443\n",
      "clueweb09-en0000-22-01842 1.8850707852881443\n",
      "clueweb09-en0000-52-01924 1.8850707852881443\n",
      "clueweb09-en0000-54-17815 1.8850707852881443\n",
      "clueweb09-en0001-65-05669 1.8850707852881443\n",
      "clueweb09-en0002-82-25423 1.8850707852881443\n",
      "clueweb09-en0011-67-00098 1.8800403651120048\n",
      "clueweb09-en0001-80-31661 1.8440164678868964\n",
      "clueweb09-en0006-27-25503 1.8440164678868964\n",
      "clueweb09-en0001-79-20053 1.8086670457577214\n",
      "clueweb09-en0010-25-36863 1.7682612394150963\n",
      "clueweb09-en0009-67-40148 1.7682612394150963\n",
      "clueweb09-en0003-51-02411 1.723065421669174\n",
      "clueweb09-en0009-88-32616 1.6903789292439395\n",
      "clueweb09-en0003-28-14164 1.6589094729825136\n",
      "clueweb09-en0000-20-02594 1.6044611333816357\n",
      "clueweb09-en0004-50-18530 1.5994499172760734\n",
      "clueweb09-en0001-36-27016 1.5982320259407214\n",
      "clueweb09-en0011-67-00063 1.5635018502635796\n",
      "clueweb09-en0000-14-36711 1.533603213878243\n",
      "clueweb09-en0011-67-00053 1.5325664765112401\n",
      "clueweb09-en0003-16-03746 1.4716888161965878\n",
      "clueweb09-en0010-82-12602 1.4716888161965878\n",
      "clueweb09-en0007-86-08802 1.4412729603772965\n",
      "clueweb09-en0010-77-31701 1.4058247421435062\n",
      "clueweb09-en0006-52-13694 1.323532427719855\n",
      "clueweb09-en0000-81-02281 1.1829666626627817\n",
      "clueweb09-en0002-57-06219 1.026284174478431\n"
     ]
    }
   ],
   "source": [
    "with ix.searcher() as searcher:\n",
    "    query = QueryParser(\"content\", ix.schema).parse(query_str)\n",
    "    results = searcher.search(query, limit=None)\n",
    "    print(\"Results found:\", len(results))\n",
    "    for result in results:\n",
    "        print(result['id'], result.score)\n",
    "        result_list.append(result['id'])"
   ]
  },
  {
   "cell_type": "code",
   "execution_count": 35,
   "metadata": {
    "collapsed": true
   },
   "outputs": [],
   "source": [
    "def read_qrels(file_path, delimiter=' '):\n",
    "    with open(file_path, 'r') as csvfile:\n",
    "        reader = csv.reader(csvfile, delimiter=delimiter, quotechar='|', quoting=csv.QUOTE_MINIMAL)\n",
    "        qrels = {}\n",
    "        for row in reader:\n",
    "            qrels[row[0]] = int(row[1])\n",
    "\n",
    "    return qrels"
   ]
  },
  {
   "cell_type": "code",
   "execution_count": 36,
   "metadata": {},
   "outputs": [],
   "source": [
    "qrels_hash = read_qrels(\"403b-qrels.csv\")"
   ]
  },
  {
   "cell_type": "code",
   "execution_count": 48,
   "metadata": {},
   "outputs": [],
   "source": [
    "def precision(doc_list, qrels, k=10):\n",
    "    f = lambda x: qrels[x] if x in qrels else 0\n",
    "    vals = list(map(lambda q: 1 if q>0 else 0, map(f, doc_list[:k])))\n",
    "    print(vals)\n",
    "    return sum(vals)/k"
   ]
  },
  {
   "cell_type": "code",
   "execution_count": 49,
   "metadata": {},
   "outputs": [
    {
     "name": "stdout",
     "output_type": "stream",
     "text": [
      "[0, 1, 1, 1, 1, 0, 0, 0, 1, 1, 0, 0, 0, 1, 1]\n"
     ]
    },
    {
     "data": {
      "text/plain": [
       "0.5333333333333333"
      ]
     },
     "execution_count": 49,
     "metadata": {},
     "output_type": "execute_result"
    }
   ],
   "source": [
    "precision(result_list, qrels_hash, k=15)"
   ]
  },
  {
   "cell_type": "code",
   "execution_count": 52,
   "metadata": {},
   "outputs": [
    {
     "name": "stdout",
     "output_type": "stream",
     "text": [
      "Results found: 288\n",
      "﻿﻿clueweb09-en0010-82-12593 105.34244377087613\n",
      "clueweb09-en0010-82-12589 73.96384349870026\n",
      "clueweb09-en0010-82-12588 60.51587195348203\n",
      "clueweb09-en0010-82-12518 60.51587195348203\n",
      "clueweb09-en0010-82-12587 56.03321477174262\n",
      "clueweb09-en0002-19-09466 44.8265718173941\n",
      "clueweb09-en0004-37-02167 40.34391463565469\n",
      "clueweb09-en0004-01-03541 35.86125745391528\n",
      "clueweb09-en0009-84-33862 26.89594309043646\n",
      "clueweb09-en0007-18-30966 24.654614499566755\n",
      "clueweb09-en0003-93-27146 20.171957317827346\n",
      "clueweb09-en0011-52-03669 20.171957317827346\n",
      "clueweb09-en0004-80-00508 17.93062872695764\n",
      "clueweb09-en0003-95-21017 15.689300136087935\n",
      "clueweb09-en0008-41-10509 11.206642954348524\n",
      "clueweb09-en0011-67-00065 11.206642954348524\n",
      "clueweb09-en0009-79-14364 11.206642954348524\n",
      "clueweb09-en0007-55-00719 8.96531436347882\n",
      "clueweb09-en0008-24-06210 8.96531436347882\n",
      "clueweb09-en0010-82-12592 8.96531436347882\n",
      "clueweb09-en0007-18-30977 8.96531436347882\n",
      "clueweb09-en0003-88-24170 8.96531436347882\n",
      "clueweb09-en0010-77-31701 8.96531436347882\n",
      "clueweb09-en0000-20-02594 8.96531436347882\n",
      "clueweb09-en0007-84-37981 6.723985772609115\n",
      "clueweb09-en0007-55-00718 6.723985772609115\n",
      "clueweb09-en0008-24-06121 6.723985772609115\n",
      "clueweb09-en0001-79-20053 6.723985772609115\n",
      "clueweb09-en0001-41-08510 6.723985772609115\n",
      "clueweb09-en0009-82-05607 6.723985772609115\n",
      "clueweb09-en0005-56-35975 6.723985772609115\n",
      "clueweb09-en0009-52-27808 6.723985772609115\n",
      "clueweb09-en0001-80-31661 6.723985772609115\n",
      "clueweb09-en0000-14-03360 6.723985772609115\n",
      "clueweb09-en0008-62-39243 6.723985772609115\n",
      "clueweb09-en0004-20-13408 6.723985772609115\n",
      "clueweb09-en0005-53-09280 6.723985772609115\n",
      "clueweb09-en0001-15-18606 6.723985772609115\n",
      "clueweb09-en0009-25-11750 6.723985772609115\n",
      "clueweb09-en0010-82-12605 6.723985772609115\n",
      "clueweb09-en0004-35-06003 6.723985772609115\n",
      "clueweb09-en0006-27-25503 6.723985772609115\n",
      "clueweb09-en0004-50-18530 6.723985772609115\n",
      "clueweb09-en0011-67-00098 6.723985772609115\n",
      "clueweb09-en0007-55-00754 4.48265718173941\n",
      "clueweb09-en0003-88-24169 4.48265718173941\n",
      "clueweb09-en0005-82-07314 4.48265718173941\n",
      "clueweb09-en0003-16-13779 4.48265718173941\n",
      "clueweb09-en0010-17-26572 4.48265718173941\n",
      "clueweb09-en0004-20-13399 4.48265718173941\n",
      "clueweb09-en0001-99-22964 4.48265718173941\n",
      "clueweb09-en0009-46-17686 4.48265718173941\n",
      "clueweb09-en0009-94-31189 4.48265718173941\n",
      "clueweb09-en0009-73-08566 4.48265718173941\n",
      "clueweb09-en0011-68-03841 4.48265718173941\n",
      "clueweb09-en0005-52-18981 4.48265718173941\n",
      "clueweb09-en0003-37-05122 4.48265718173941\n",
      "clueweb09-en0007-40-22841 4.48265718173941\n",
      "clueweb09-en0004-75-07682 4.48265718173941\n",
      "clueweb09-en0004-62-21431 4.48265718173941\n",
      "clueweb09-en0000-10-01627 4.48265718173941\n",
      "clueweb09-en0002-59-21571 4.48265718173941\n",
      "clueweb09-en0007-49-05462 4.48265718173941\n",
      "clueweb09-en0010-82-12616 4.48265718173941\n",
      "clueweb09-en0005-38-02471 4.48265718173941\n",
      "clueweb09-en0008-84-31988 4.48265718173941\n",
      "clueweb09-en0007-18-31004 4.48265718173941\n",
      "clueweb09-en0010-82-12596 4.48265718173941\n",
      "clueweb09-en0010-25-36863 4.48265718173941\n",
      "clueweb09-en0009-67-40148 4.48265718173941\n",
      "clueweb09-en0001-36-27016 4.48265718173941\n",
      "clueweb09-en0011-67-00053 4.48265718173941\n",
      "clueweb09-en0006-73-25389 2.241328590869705\n",
      "clueweb09-en0010-79-01642 2.241328590869705\n",
      "clueweb09-en0011-06-39804 2.241328590869705\n",
      "clueweb09-en0010-79-01651 2.241328590869705\n",
      "clueweb09-en0009-93-11725 2.241328590869705\n",
      "clueweb09-en0003-16-03754 2.241328590869705\n",
      "clueweb09-en0000-41-16092 2.241328590869705\n",
      "clueweb09-en0001-92-00499 2.241328590869705\n",
      "clueweb09-en0001-54-14652 2.241328590869705\n",
      "clueweb09-en0006-95-39509 2.241328590869705\n",
      "clueweb09-en0009-74-17389 2.241328590869705\n",
      "clueweb09-en0011-84-29194 2.241328590869705\n",
      "clueweb09-en0007-55-00847 2.241328590869705\n",
      "clueweb09-en0007-55-00716 2.241328590869705\n",
      "clueweb09-en0005-24-24966 2.241328590869705\n",
      "clueweb09-en0000-81-02281 2.241328590869705\n",
      "clueweb09-en0009-88-32616 2.241328590869705\n",
      "clueweb09-en0003-16-03746 2.241328590869705\n",
      "clueweb09-en0007-55-00714 2.241328590869705\n",
      "clueweb09-en0011-44-34605 2.241328590869705\n",
      "clueweb09-en0009-23-31423 2.241328590869705\n",
      "clueweb09-en0007-55-00887 2.241328590869705\n",
      "clueweb09-en0007-55-00715 2.241328590869705\n",
      "clueweb09-en0007-55-00717 2.241328590869705\n",
      "clueweb09-en0007-55-00863 2.241328590869705\n",
      "clueweb09-en0001-92-00529 2.241328590869705\n",
      "clueweb09-en0000-14-36711 2.241328590869705\n",
      "clueweb09-en0009-84-33861 2.241328590869705\n",
      "clueweb09-en0004-83-01960 2.241328590869705\n",
      "clueweb09-en0010-82-12602 2.241328590869705\n",
      "clueweb09-en0011-67-00100 2.241328590869705\n",
      "clueweb09-en0011-67-00063 2.241328590869705\n",
      "clueweb09-en0004-33-24199 2.241328590869705\n",
      "clueweb09-en0005-81-30831 2.241328590869705\n",
      "clueweb09-en0005-82-33573 2.241328590869705\n",
      "clueweb09-en0000-97-20518 2.241328590869705\n",
      "clueweb09-en0001-41-08506 2.241328590869705\n",
      "clueweb09-en0007-03-16611 2.241328590869705\n",
      "clueweb09-en0010-62-17439 2.241328590869705\n",
      "clueweb09-en0010-33-29246 2.241328590869705\n",
      "clueweb09-en0008-86-21354 2.241328590869705\n",
      "clueweb09-en0004-44-09495 2.241328590869705\n",
      "clueweb09-en0002-20-15453 2.241328590869705\n",
      "clueweb09-en0002-35-09523 2.241328590869705\n",
      "clueweb09-en0000-85-24996 2.241328590869705\n",
      "clueweb09-en0001-02-27070 2.241328590869705\n",
      "clueweb09-en0001-23-25550 2.241328590869705\n",
      "clueweb09-en0007-93-11243 2.241328590869705\n",
      "clueweb09-en0011-44-17887 2.241328590869705\n",
      "clueweb09-en0009-63-21838 2.241328590869705\n",
      "clueweb09-en0008-64-11078 2.241328590869705\n",
      "clueweb09-en0011-99-30168 2.241328590869705\n",
      "clueweb09-en0011-77-05552 2.241328590869705\n",
      "clueweb09-en0011-95-18002 2.241328590869705\n",
      "clueweb09-en0009-15-34349 2.241328590869705\n",
      "clueweb09-en0005-82-27244 2.241328590869705\n",
      "clueweb09-en0009-04-27409 2.241328590869705\n",
      "clueweb09-en0006-52-13694 2.241328590869705\n",
      "clueweb09-en0007-86-08802 2.241328590869705\n",
      "clueweb09-en0002-57-06219 2.241328590869705\n",
      "clueweb09-en0004-01-30460 2.241328590869705\n",
      "clueweb09-en0004-37-04144 2.241328590869705\n",
      "clueweb09-en0003-57-09906 2.241328590869705\n",
      "clueweb09-en0003-30-08703 2.241328590869705\n",
      "clueweb09-en0000-13-29144 2.241328590869705\n",
      "clueweb09-en0000-36-25235 2.241328590869705\n",
      "clueweb09-en0002-79-25031 2.241328590869705\n",
      "clueweb09-en0002-70-17056 2.241328590869705\n",
      "clueweb09-en0001-13-16664 2.241328590869705\n",
      "clueweb09-en0000-99-07984 2.241328590869705\n",
      "clueweb09-en0001-41-08505 2.241328590869705\n",
      "clueweb09-en0003-30-08704 2.241328590869705\n",
      "clueweb09-en0000-05-20758 2.241328590869705\n",
      "clueweb09-en0000-03-30761 2.241328590869705\n",
      "clueweb09-en0011-22-16581 2.241328590869705\n",
      "clueweb09-en0011-35-01851 2.241328590869705\n",
      "clueweb09-en0011-06-39809 2.241328590869705\n",
      "clueweb09-en0010-99-06872 2.241328590869705\n",
      "clueweb09-en0007-09-06594 2.241328590869705\n",
      "clueweb09-en0006-58-17064 2.241328590869705\n",
      "clueweb09-en0006-94-08016 2.241328590869705\n",
      "clueweb09-en0006-75-32036 2.241328590869705\n",
      "clueweb09-en0006-59-15562 2.241328590869705\n",
      "clueweb09-en0005-97-23767 2.241328590869705\n",
      "clueweb09-en0009-81-37061 2.241328590869705\n",
      "clueweb09-en0010-88-01445 2.241328590869705\n",
      "clueweb09-en0007-97-12197 2.241328590869705\n",
      "clueweb09-en0004-51-33789 2.241328590869705\n",
      "clueweb09-en0004-79-30162 2.241328590869705\n",
      "clueweb09-en0011-55-22323 2.241328590869705\n",
      "clueweb09-en0011-49-32965 2.241328590869705\n",
      "clueweb09-en0011-43-11159 2.241328590869705\n",
      "clueweb09-en0008-23-16530 2.241328590869705\n",
      "clueweb09-en0008-46-17648 2.241328590869705\n",
      "clueweb09-en0008-61-00155 2.241328590869705\n",
      "clueweb09-en0011-75-26293 2.241328590869705\n",
      "clueweb09-en0011-98-17424 2.241328590869705\n",
      "clueweb09-en0011-90-11940 2.241328590869705\n",
      "clueweb09-en0009-25-11746 2.241328590869705\n",
      "clueweb09-en0009-25-11744 2.241328590869705\n",
      "clueweb09-en0005-60-04959 2.241328590869705\n",
      "clueweb09-en0005-41-38503 2.241328590869705\n",
      "clueweb09-en0005-47-21143 2.241328590869705\n",
      "clueweb09-en0008-83-13310 2.241328590869705\n",
      "clueweb09-en0001-41-26079 2.241328590869705\n",
      "clueweb09-en0002-97-16973 2.241328590869705\n",
      "clueweb09-en0004-18-30453 2.241328590869705\n",
      "clueweb09-en0003-16-13798 2.241328590869705\n",
      "clueweb09-en0006-00-02700 2.241328590869705\n",
      "clueweb09-en0007-54-13479 2.241328590869705\n",
      "clueweb09-en0008-24-06118 2.241328590869705\n",
      "clueweb09-en0007-59-28337 2.241328590869705\n",
      "clueweb09-en0006-94-11688 2.241328590869705\n",
      "clueweb09-en0007-03-37389 2.241328590869705\n",
      "clueweb09-en0006-21-36525 2.241328590869705\n",
      "clueweb09-en0010-04-25824 2.241328590869705\n",
      "clueweb09-en0010-79-01542 2.241328590869705\n",
      "clueweb09-en0008-24-06113 2.241328590869705\n",
      "clueweb09-en0010-32-14068 2.241328590869705\n",
      "clueweb09-en0011-56-28078 2.241328590869705\n",
      "clueweb09-en0011-81-14065 2.241328590869705\n",
      "clueweb09-en0011-77-36064 2.241328590869705\n",
      "clueweb09-en0011-00-18393 2.241328590869705\n",
      "clueweb09-en0011-70-15598 2.241328590869705\n",
      "clueweb09-en0011-26-10075 2.241328590869705\n",
      "clueweb09-en0008-60-09818 2.241328590869705\n",
      "clueweb09-en0008-77-26203 2.241328590869705\n",
      "clueweb09-en0011-58-36244 2.241328590869705\n",
      "clueweb09-en0011-49-35778 2.241328590869705\n",
      "clueweb09-en0009-25-16125 2.241328590869705\n",
      "clueweb09-en0009-34-03173 2.241328590869705\n",
      "clueweb09-en0005-58-05817 2.241328590869705\n",
      "clueweb09-en0007-54-13482 2.241328590869705\n",
      "clueweb09-en0007-84-11305 2.241328590869705\n",
      "clueweb09-en0008-64-31337 2.241328590869705\n",
      "clueweb09-en0005-25-15002 2.241328590869705\n",
      "clueweb09-en0005-52-18226 2.241328590869705\n",
      "clueweb09-en0005-42-38180 2.241328590869705\n",
      "clueweb09-en0004-16-08467 2.241328590869705\n",
      "clueweb09-en0004-20-13402 2.241328590869705\n",
      "clueweb09-en0002-19-23070 2.241328590869705\n",
      "clueweb09-en0000-38-27561 2.241328590869705\n",
      "clueweb09-en0001-90-03226 2.241328590869705\n",
      "clueweb09-en0002-79-29421 2.241328590869705\n",
      "clueweb09-en0002-81-20335 2.241328590869705\n",
      "clueweb09-en0001-79-26694 2.241328590869705\n",
      "clueweb09-en0001-96-22895 2.241328590869705\n",
      "clueweb09-en0002-50-23399 2.241328590869705\n",
      "clueweb09-en0002-66-04782 2.241328590869705\n",
      "clueweb09-en0002-43-26392 2.241328590869705\n",
      "clueweb09-en0001-29-16706 2.241328590869705\n",
      "clueweb09-en0000-84-23721 2.241328590869705\n",
      "clueweb09-en0001-02-27066 2.241328590869705\n",
      "clueweb09-en0000-95-10297 2.241328590869705\n",
      "clueweb09-en0004-16-25603 2.241328590869705\n",
      "clueweb09-en0000-25-20929 2.241328590869705\n",
      "clueweb09-en0009-92-30899 2.241328590869705\n",
      "clueweb09-en0010-09-24153 2.241328590869705\n",
      "clueweb09-en0006-61-01068 2.241328590869705\n",
      "clueweb09-en0006-55-12995 2.241328590869705\n",
      "clueweb09-en0008-02-24727 2.241328590869705\n",
      "clueweb09-en0007-83-12597 2.241328590869705\n",
      "clueweb09-en0004-78-22764 2.241328590869705\n",
      "clueweb09-en0007-09-06593 2.241328590869705\n",
      "clueweb09-en0006-71-07962 2.241328590869705\n",
      "clueweb09-en0006-94-11693 2.241328590869705\n",
      "clueweb09-en0011-97-30440 2.241328590869705\n",
      "clueweb09-en0011-83-32061 2.241328590869705\n",
      "clueweb09-en0009-79-14382 2.241328590869705\n",
      "clueweb09-en0010-75-26187 2.241328590869705\n",
      "clueweb09-en0008-06-21146 2.241328590869705\n",
      "clueweb09-en0008-44-37908 2.241328590869705\n",
      "clueweb09-en0008-01-15587 2.241328590869705\n",
      "clueweb09-en0008-02-24716 2.241328590869705\n",
      "clueweb09-en0004-67-26353 2.241328590869705\n",
      "clueweb09-en0004-47-11582 2.241328590869705\n",
      "clueweb09-en0010-58-27394 2.241328590869705\n",
      "clueweb09-en0010-26-42796 2.241328590869705\n",
      "clueweb09-en0010-55-07748 2.241328590869705\n",
      "clueweb09-en0011-63-08930 2.241328590869705\n",
      "clueweb09-en0011-63-08920 2.241328590869705\n",
      "clueweb09-en0011-66-15309 2.241328590869705\n",
      "clueweb09-en0011-63-08905 2.241328590869705\n",
      "clueweb09-en0009-33-22670 2.241328590869705\n",
      "clueweb09-en0009-65-08679 2.241328590869705\n",
      "clueweb09-en0009-58-18330 2.241328590869705\n",
      "clueweb09-en0008-62-28973 2.241328590869705\n",
      "clueweb09-en0008-47-26036 2.241328590869705\n",
      "clueweb09-en0008-37-01538 2.241328590869705\n",
      "clueweb09-en0008-43-30435 2.241328590869705\n",
      "clueweb09-en0011-63-08898 2.241328590869705\n",
      "clueweb09-en0011-63-08897 2.241328590869705\n",
      "clueweb09-en0005-46-15175 2.241328590869705\n",
      "clueweb09-en0005-49-37551 2.241328590869705\n",
      "clueweb09-en0007-55-00762 2.241328590869705\n",
      "clueweb09-en0008-74-29642 2.241328590869705\n",
      "clueweb09-en0009-09-26578 2.241328590869705\n",
      "clueweb09-en0008-77-26237 2.241328590869705\n",
      "clueweb09-en0005-84-20167 2.241328590869705\n",
      "clueweb09-en0005-98-00118 2.241328590869705\n",
      "clueweb09-en0005-74-35658 2.241328590869705\n",
      "clueweb09-en0005-28-00804 2.241328590869705\n",
      "clueweb09-en0000-73-28356 2.241328590869705\n",
      "clueweb09-en0003-28-14164 2.241328590869705\n",
      "clueweb09-en0003-51-00909 2.241328590869705\n",
      "clueweb09-en0003-51-02411 2.241328590869705\n",
      "clueweb09-en0000-22-01842 2.241328590869705\n",
      "clueweb09-en0000-52-01924 2.241328590869705\n",
      "clueweb09-en0000-11-24597 2.241328590869705\n",
      "clueweb09-en0000-54-17815 2.241328590869705\n",
      "clueweb09-en0003-88-24206 2.241328590869705\n",
      "clueweb09-en0001-57-08193 2.241328590869705\n",
      "clueweb09-en0001-65-05669 2.241328590869705\n",
      "clueweb09-en0002-82-25423 2.241328590869705\n",
      "clueweb09-en0002-85-01347 2.241328590869705\n",
      "clueweb09-en0002-05-19563 2.241328590869705\n"
     ]
    }
   ],
   "source": [
    "result_list = []\n",
    "with ix.searcher(weighting =w) as searcher:\n",
    "    query = QueryParser(\"content\", ix.schema).parse(query_str)\n",
    "    results = searcher.search(query, limit=None)\n",
    "    print(\"Results found:\", len(results))\n",
    "    for result in results:\n",
    "        print(result['id'], result.score)\n",
    "        result_list.append(result['id'])"
   ]
  },
  {
   "cell_type": "code",
   "execution_count": 53,
   "metadata": {},
   "outputs": [
    {
     "name": "stdout",
     "output_type": "stream",
     "text": [
      "[0, 1, 1, 1, 1, 1, 0, 1, 0, 0, 0, 0, 1, 0, 0]\n"
     ]
    },
    {
     "data": {
      "text/plain": [
       "0.4666666666666667"
      ]
     },
     "execution_count": 53,
     "metadata": {},
     "output_type": "execute_result"
    }
   ],
   "source": [
    "precision(result_list, qrels_hash, k=15)"
   ]
  },
  {
   "cell_type": "code",
   "execution_count": null,
   "metadata": {
    "collapsed": true
   },
   "outputs": [],
   "source": []
  }
 ],
 "metadata": {
  "anaconda-cloud": {},
  "kernelspec": {
   "display_name": "Python 3",
   "language": "python",
   "name": "python3"
  },
  "language_info": {
   "codemirror_mode": {
    "name": "ipython",
    "version": 3
   },
   "file_extension": ".py",
   "mimetype": "text/x-python",
   "name": "python",
   "nbconvert_exporter": "python",
   "pygments_lexer": "ipython3",
   "version": "3.6.3"
  }
 },
 "nbformat": 4,
 "nbformat_minor": 1
}
